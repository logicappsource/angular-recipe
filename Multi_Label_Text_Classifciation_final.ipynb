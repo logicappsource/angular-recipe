{
  "nbformat": 4,
  "nbformat_minor": 0,
  "metadata": {
    "colab": {
      "name": "Multi-Label-Text-Classifciation-final.ipynb",
      "provenance": [],
      "collapsed_sections": [],
      "toc_visible": true,
      "authorship_tag": "ABX9TyPr6BCz6dsazy9BUIz9OMWj",
      "include_colab_link": true
    },
    "kernelspec": {
      "name": "python3",
      "display_name": "Python 3"
    },
    "accelerator": "GPU"
  },
  "cells": [
    {
      "cell_type": "markdown",
      "metadata": {
        "id": "view-in-github",
        "colab_type": "text"
      },
      "source": [
        "<a href=\"https://colab.research.google.com/github/logicappsource/angular-recipe/blob/master/Multi_Label_Text_Classifciation_final.ipynb\" target=\"_parent\"><img src=\"https://colab.research.google.com/assets/colab-badge.svg\" alt=\"Open In Colab\"/></a>"
      ]
    },
    {
      "cell_type": "markdown",
      "metadata": {
        "id": "jZukRnt2kSwC"
      },
      "source": [
        "# Multi Label Classification "
      ]
    },
    {
      "cell_type": "code",
      "metadata": {
        "id": "ol-hqpuQkXJt",
        "colab": {
          "base_uri": "https://localhost:8080/"
        },
        "outputId": "ac334a2f-56f0-4cad-d147-f54579e06871"
      },
      "source": [
        "import pandas as pd \n",
        "import numpy as np\n",
        "import re\n",
        "import nltk\n",
        "import json\n",
        "import requests\n",
        "import csv\n",
        "\n",
        "import seaborn as sns\n",
        "import matplotlib.pyplot as plt\n",
        "plt.style.use('ggplot')\n",
        "\n",
        "from wordcloud import WordCloud\n",
        "\n",
        "# saving model using pickle \n",
        "nltk.download('stopwords')\n",
        "nltk.download('word_tokenize')\n",
        "nltk.download('SnowballStemmer')\n",
        "nltk.download('punkt')\n",
        "\n"
      ],
      "execution_count": 20,
      "outputs": [
        {
          "output_type": "stream",
          "text": [
            "[nltk_data] Downloading package stopwords to /root/nltk_data...\n",
            "[nltk_data]   Package stopwords is already up-to-date!\n",
            "[nltk_data] Error loading word_tokenize: Package 'word_tokenize' not\n",
            "[nltk_data]     found in index\n",
            "[nltk_data] Error loading SnowballStemmer: Package 'SnowballStemmer'\n",
            "[nltk_data]     not found in index\n",
            "[nltk_data] Downloading package punkt to /root/nltk_data...\n",
            "[nltk_data]   Package punkt is already up-to-date!\n"
          ],
          "name": "stdout"
        },
        {
          "output_type": "execute_result",
          "data": {
            "text/plain": [
              "True"
            ]
          },
          "metadata": {
            "tags": []
          },
          "execution_count": 20
        }
      ]
    },
    {
      "cell_type": "code",
      "metadata": {
        "id": "_c_CnekLqZZe"
      },
      "source": [
        "from sklearn.feature_extraction.text import TfidfVectorizer\n",
        "from sklearn.preprocessing import MultiLabelBinarizer\n",
        "from sklearn.model_selection import train_test_split\n",
        "from sklearn.linear_model import SGDClassifier\n",
        "from sklearn.linear_model import LogisticRegression\n",
        "from sklearn.svm import LinearSVC\n",
        "from sklearn.feature_extraction.text import CountVectorizer\n",
        "from sklearn.multiclass import OneVsRestClassifier\n",
        "from sklearn.metrics import classification_report, confusion_matrix, accuracy_score, roc_auc_score, hamming_loss, f1_score\n",
        "\n",
        "\n",
        "# Preprocessing\n",
        "from nltk.corpus import stopwords\n",
        "from nltk.tokenize import word_tokenize\n",
        "from nltk.stem.snowball import SnowballStemmer\n",
        "\n",
        "plt.rcParams['figure.figsize'] = [12,8]\n",
        "plt.rcParams['figure.dpi'] = 100\n"
      ],
      "execution_count": 21,
      "outputs": []
    },
    {
      "cell_type": "code",
      "metadata": {
        "id": "eUFczJ46keiK"
      },
      "source": [
        "# Testing on multiple dataset - Multiple Tags - History of dataset to increase accuracy\n",
        "#df = pd.read_csv('http://www.blog.pinploy.com/wp-content/uploads/2020/10/HH-Test-data4-10k.csv') #3 \n",
        "#df = pd.read_csv('http://www.blog.pinploy.com/wp-content/uploads/2020/10/HH-tasks-testdata-4-final10k-.csv')\n",
        "\n",
        "# Dataset = 1\n",
        "#df = pd.read_csv('http://www.blog.pinploy.com/wp-content/uploads/2020/09/HHDataSet2.csv') \n",
        "\n",
        "# Dataset = 2 \n",
        "#df = pd.read_csv('http://www.blog.pinploy.com/wp-content/uploads/2020/09/HH-Test-data3.csv') \n",
        "\n",
        "# Data set = 3 \n",
        "#df = pd.read_csv('http://www.blog.pinploy.com/wp-content/uploads/2020/10/HH-task-3re-noduplicates.csv')\n",
        "\n",
        "# iterations; Data set = version 4.0\n",
        "#df = pd.read_csv('http://www.blog.pinploy.com/wp-content/uploads/2021/01/6-iterations-dataset-4.0.csv')\n",
        "\n",
        "# v5 iteration \n",
        "#df = pd.read_csv('http://www.blog.pinploy.com/wp-content/uploads/2021/01/HHtaskv-5.csv')\n",
        "\n",
        "# v6 iteration \n",
        "df = pd.read_csv('http://www.blog.pinploy.com/wp-content/uploads/2021/04/Machine-Learning-Bob-Consolidation-april2.csv')\n",
        "\n",
        "# Testing on real data set for accuracy \n",
        "df_real_data = pd.read_csv('http://www.blog.pinploy.com/wp-content/uploads/2020/10/HH-real-data.csv', dtype='str')"
      ],
      "execution_count": 22,
      "outputs": []
    },
    {
      "cell_type": "code",
      "metadata": {
        "id": "JkzNnCDmlk_8",
        "colab": {
          "base_uri": "https://localhost:8080/",
          "height": 206
        },
        "outputId": "aaeeedc4-5d54-4c52-a41e-232ae7395894"
      },
      "source": [
        "df.head()"
      ],
      "execution_count": 23,
      "outputs": [
        {
          "output_type": "execute_result",
          "data": {
            "text/html": [
              "<div>\n",
              "<style scoped>\n",
              "    .dataframe tbody tr th:only-of-type {\n",
              "        vertical-align: middle;\n",
              "    }\n",
              "\n",
              "    .dataframe tbody tr th {\n",
              "        vertical-align: top;\n",
              "    }\n",
              "\n",
              "    .dataframe thead th {\n",
              "        text-align: right;\n",
              "    }\n",
              "</style>\n",
              "<table border=\"1\" class=\"dataframe\">\n",
              "  <thead>\n",
              "    <tr style=\"text-align: right;\">\n",
              "      <th></th>\n",
              "      <th>Tag</th>\n",
              "      <th>Title</th>\n",
              "      <th>Description</th>\n",
              "    </tr>\n",
              "  </thead>\n",
              "  <tbody>\n",
              "    <tr>\n",
              "      <th>0</th>\n",
              "      <td>[flyttehjælp, handyman]</td>\n",
              "      <td>Køre affald væk</td>\n",
              "      <td>En Palle på ca 240 cm og lidt andet pap mv</td>\n",
              "    </tr>\n",
              "    <tr>\n",
              "      <th>1</th>\n",
              "      <td>[rengøring]</td>\n",
              "      <td>Poleringsprojekt af messing møbel</td>\n",
              "      <td>Jeg søger hjælp til polering af ældre messing ...</td>\n",
              "    </tr>\n",
              "    <tr>\n",
              "      <th>2</th>\n",
              "      <td>[havearbejde]</td>\n",
              "      <td>Tilbyder alt arbejde indenfor havearbejde.</td>\n",
              "      <td>Tilbyder alt arbejde indenfor havearbejde. Kon...</td>\n",
              "    </tr>\n",
              "    <tr>\n",
              "      <th>3</th>\n",
              "      <td>[havearbejde]</td>\n",
              "      <td>Tilbyder alt arbejde indenfor havearbejde.</td>\n",
              "      <td>Tilbyder alt arbejde indenfor havearbejde. Kon...</td>\n",
              "    </tr>\n",
              "    <tr>\n",
              "      <th>4</th>\n",
              "      <td>[møbelsamling, handyman, reparation-af-senge]</td>\n",
              "      <td>reparation af solseng</td>\n",
              "      <td>Vi har en kunde i vores webshop, som har modta...</td>\n",
              "    </tr>\n",
              "  </tbody>\n",
              "</table>\n",
              "</div>"
            ],
            "text/plain": [
              "                                             Tag  ...                                        Description\n",
              "0                        [flyttehjælp, handyman]  ...         En Palle på ca 240 cm og lidt andet pap mv\n",
              "1                                    [rengøring]  ...  Jeg søger hjælp til polering af ældre messing ...\n",
              "2                                  [havearbejde]  ...  Tilbyder alt arbejde indenfor havearbejde. Kon...\n",
              "3                                  [havearbejde]  ...  Tilbyder alt arbejde indenfor havearbejde. Kon...\n",
              "4  [møbelsamling, handyman, reparation-af-senge]  ...  Vi har en kunde i vores webshop, som har modta...\n",
              "\n",
              "[5 rows x 3 columns]"
            ]
          },
          "metadata": {
            "tags": []
          },
          "execution_count": 23
        }
      ]
    },
    {
      "cell_type": "code",
      "metadata": {
        "id": "-m6engfhlrLp",
        "colab": {
          "base_uri": "https://localhost:8080/"
        },
        "outputId": "e280810e-3c0d-4e16-98b5-b54ef3b16f84"
      },
      "source": [
        "#type(df['Tags'].iloc[0]) # Display type is str || num\n",
        "import ast  # evaluation literal\n",
        "!pip install git+https://github.com/laxmimerit/preprocess_kgptalkie.git\n",
        "!pip install lemmy"
      ],
      "execution_count": 24,
      "outputs": [
        {
          "output_type": "stream",
          "text": [
            "Collecting git+https://github.com/laxmimerit/preprocess_kgptalkie.git\n",
            "  Cloning https://github.com/laxmimerit/preprocess_kgptalkie.git to /tmp/pip-req-build-_tl2_4ph\n",
            "  Running command git clone -q https://github.com/laxmimerit/preprocess_kgptalkie.git /tmp/pip-req-build-_tl2_4ph\n",
            "Requirement already satisfied (use --upgrade to upgrade): preprocess-kgptalkie==0.1.3 from git+https://github.com/laxmimerit/preprocess_kgptalkie.git in /usr/local/lib/python3.7/dist-packages\n",
            "Building wheels for collected packages: preprocess-kgptalkie\n",
            "  Building wheel for preprocess-kgptalkie (setup.py) ... \u001b[?25l\u001b[?25hdone\n",
            "  Created wheel for preprocess-kgptalkie: filename=preprocess_kgptalkie-0.1.3-cp37-none-any.whl size=11743 sha256=0b72c3db43598428e63171600176fbb8dc5a1da517bed0ff12acd64d836803ee\n",
            "  Stored in directory: /tmp/pip-ephem-wheel-cache-j541cpao/wheels/a8/18/22/90afa4bd43247fb9a75b710a4a3fcd94966c022ce9e3c7d0a6\n",
            "Successfully built preprocess-kgptalkie\n",
            "Requirement already satisfied: lemmy in /usr/local/lib/python3.7/dist-packages (2.1.0)\n"
          ],
          "name": "stdout"
        }
      ]
    },
    {
      "cell_type": "markdown",
      "metadata": {
        "id": "q6R1stBIKzf9"
      },
      "source": [
        ""
      ]
    },
    {
      "cell_type": "code",
      "metadata": {
        "id": "yhg0pBA5mFVU",
        "colab": {
          "base_uri": "https://localhost:8080/",
          "height": 968
        },
        "outputId": "52d26970-8960-474d-fe64-6fc881fcf75f"
      },
      "source": [
        "# Eexploratary Data Analysis  | of Target Variable of unique Tags\n",
        "vector = CountVectorizer(tokenizer=lambda x:x.split())\n",
        "tag_dtm = vector.fit_transform(df[\"Tag\"].values.astype('U'))\n",
        "print(\"Number of Total unique Tags in Dataset are:\", tag_dtm.shape[1])\n",
        "\n",
        "# Get x tags\n",
        "tag = vector.get_feature_names()\n",
        "print(\"Some of the 10 Tags: \", tag[:10])\n",
        "\n",
        "# Number of times tag appeared \n",
        "freqs = tag_dtm.sum(axis=0).A1\n",
        "result = dict(zip(tag, freqs))\n",
        "\n",
        "print(df[\"Tag\"].value_counts())\n",
        "tag_df_sorted = df[\"Tag\"].value_counts()\n",
        "\n",
        "#tag_df_sorted = sort_values(['count'], ascending=False) \n",
        "#tag_df_sorted = tag.sort_values(['Count'], ascending=False)\n",
        "\n",
        "tag_counts = tag_df_sorted.values\n",
        "\n",
        "plt.plot(tag_counts)\n",
        "plt.title(\"Distribution of number of times tag appeared in Task data\")\n",
        "plt.grid()\n",
        "plt.xlabel(\"Tag number\")\n",
        "plt.ylabel(\"Number of times tag appeared\")\n",
        "plt.show()\n"
      ],
      "execution_count": 25,
      "outputs": [
        {
          "output_type": "stream",
          "text": [
            "Number of Total unique Tags in Dataset are: 1901\n",
            "Some of the 10 Tags:  ['#ref!', '&', '(', '(el', '(front', '(ilva)]', '(lamelgardin)', '(og', '(stammekrone)]', '(til']\n",
            "[rengøring]                                       754\n",
            "[murer]                                           402\n",
            "[maler]                                           377\n",
            "[børnepasning]                                    288\n",
            "[handyman]                                        223\n",
            "                                                 ... \n",
            "[tømrer-&-snedker, hylder, køkkeninstallation]      1\n",
            "[murer, Tømrer-&-Snedker, Handyman]                 1\n",
            "[Samling af kommode]                                1\n",
            "[Lægning af herregårdssten]                         1\n",
            "[Altmuligmand søges]                                1\n",
            "Name: Tag, Length: 3193, dtype: int64\n"
          ],
          "name": "stdout"
        },
        {
          "output_type": "display_data",
          "data": {
            "image/png": "[encoded data removed]",
            "text/plain": [
              "<Figure size 1200x800 with 1 Axes>"
            ]
          },
          "metadata": {
            "tags": []
          }
        }
      ]
    },
    {
      "cell_type": "markdown",
      "metadata": {
        "id": "WCVKHApbbNjN"
      },
      "source": [
        "## Detailed Tag Trend"
      ]
    },
    {
      "cell_type": "code",
      "metadata": {
        "colab": {
          "base_uri": "https://localhost:8080/",
          "height": 1000
        },
        "id": "NUSOdrU6bS_m",
        "outputId": "9cc8f6bc-6089-4c9c-fb77-49e8949b4dbf"
      },
      "source": [
        "plt.plot(tag_counts[0:100], c='b')\n",
        "plt.scatter(x=list(range(0,100,5)), y=tag_counts[0:100:5], c='orange', label='quantiles with 0.05 intervals')\n",
        "# Quantiles with 0.25 difference \n",
        "plt.scatter(x=list(range(0, 100, 25)), y=tag_counts[0:100:25], c='m', label='quantiles with 0.25 intervals')\n",
        "\n",
        "for x,y in zip(list(range(0,100,25)), tag_counts[0:100:25]):\n",
        "  plt.annotate(s=\"({}, {})\".format(x,y), xy=(x,y), xytext=(x-0.05, y+500))\n",
        "\n",
        "plt.title('First 100 tags: Distribution of number of times tag apperead in tasks')\n",
        "plt.grid()\n",
        "plt.xlabel('Tag Number')\n",
        "plt.ylabel('Number of times tag appeared')\n",
        "plt.legend()\n",
        "plt.show()\n",
        "print(len(tag_counts[0:100:5]), tag_counts[0:100:5])\n",
        "\n"
      ],
      "execution_count": 26,
      "outputs": [
        {
          "output_type": "display_data",
          "data": {
            "image/png": "[encoded data removed]",
            "text/plain": [
              "<Figure size 1200x800 with 1 Axes>"
            ]
          },
          "metadata": {
            "tags": []
          }
        },
        {
          "output_type": "stream",
          "text": [
            "20 [754 215 185 146 120 109  93  77  65  57  50  46  41  38  35  33  31  29\n",
            "  27  26]\n"
          ],
          "name": "stdout"
        }
      ]
    },
    {
      "cell_type": "markdown",
      "metadata": {
        "id": "eE36vahagazT"
      },
      "source": [
        "## Word Cloud Visualization of Tags "
      ]
    },
    {
      "cell_type": "code",
      "metadata": {
        "id": "qqvF63qigfhB"
      },
      "source": [
        "# Remove duplicates\n",
        "#tags_map_wordcloud = df[\"Tag\"].drop_duplicates(keep=False, inplace=True) #[\"Tag\"]\n",
        "#print(tags_map_wordcloud)\n",
        "\n",
        "#word_cloud_words_from_text = \" \".join(word for word in df[\"Tag\"])\n",
        "#word_cloud_stop_words = set(stop_words)\n",
        "#Initializing WordCloud using frequencies of tags.\n",
        "#wordcloud = WordCloud(    stopwords=word_cloud_stop_words,\n",
        "                          #background_color='black',\n",
        "                          #width=1200,\n",
        "                          #height=600,\n",
        "                  #  ).generate(word_cloud_words_from_text)\n",
        "\n",
        "#fig = plt.figure(figsize=(30,20))\n",
        "#plt.imshow(wordcloud)\n",
        "#plt.axis('off')\n",
        "#plt.tight_layout(pad=0)\n",
        "#fig.savefig(\"tag.png\")\n",
        "#plt.show()\n"
      ],
      "execution_count": 31,
      "outputs": []
    },
    {
      "cell_type": "markdown",
      "metadata": {
        "id": "48bt87MKj3pK"
      },
      "source": [
        "## Tags per Task - Analysis"
      ]
    },
    {
      "cell_type": "code",
      "metadata": {
        "id": "8_bVVEetj9zh",
        "colab": {
          "base_uri": "https://localhost:8080/",
          "height": 361
        },
        "outputId": "6114edab-02d4-4c4b-cc24-90809fd96431"
      },
      "source": [
        "df[\"tag_count\"] = df[\"Tag\"].apply(lambda x:len(x.split()))\n",
        "print()\n",
        "sns.countplot(x=df[\"tag_count\"], data=df)"
      ],
      "execution_count": 32,
      "outputs": [
        {
          "output_type": "error",
          "ename": "AttributeError",
          "evalue": "ignored",
          "traceback": [
            "\u001b[0;31m---------------------------------------------------------------------------\u001b[0m",
            "\u001b[0;31mAttributeError\u001b[0m                            Traceback (most recent call last)",
            "\u001b[0;32m<ipython-input-32-c45b6edb5ec1>\u001b[0m in \u001b[0;36m<module>\u001b[0;34m()\u001b[0m\n\u001b[0;32m----> 1\u001b[0;31m \u001b[0mdf\u001b[0m\u001b[0;34m[\u001b[0m\u001b[0;34m\"tag_count\"\u001b[0m\u001b[0;34m]\u001b[0m \u001b[0;34m=\u001b[0m \u001b[0mdf\u001b[0m\u001b[0;34m[\u001b[0m\u001b[0;34m\"Tag\"\u001b[0m\u001b[0;34m]\u001b[0m\u001b[0;34m.\u001b[0m\u001b[0mapply\u001b[0m\u001b[0;34m(\u001b[0m\u001b[0;32mlambda\u001b[0m \u001b[0mx\u001b[0m\u001b[0;34m:\u001b[0m\u001b[0mlen\u001b[0m\u001b[0;34m(\u001b[0m\u001b[0mx\u001b[0m\u001b[0;34m.\u001b[0m\u001b[0msplit\u001b[0m\u001b[0;34m(\u001b[0m\u001b[0;34m)\u001b[0m\u001b[0;34m)\u001b[0m\u001b[0;34m)\u001b[0m\u001b[0;34m\u001b[0m\u001b[0;34m\u001b[0m\u001b[0m\n\u001b[0m\u001b[1;32m      2\u001b[0m \u001b[0mprint\u001b[0m\u001b[0;34m(\u001b[0m\u001b[0;34m)\u001b[0m\u001b[0;34m\u001b[0m\u001b[0;34m\u001b[0m\u001b[0m\n\u001b[1;32m      3\u001b[0m \u001b[0msns\u001b[0m\u001b[0;34m.\u001b[0m\u001b[0mcountplot\u001b[0m\u001b[0;34m(\u001b[0m\u001b[0mx\u001b[0m\u001b[0;34m=\u001b[0m\u001b[0mdf\u001b[0m\u001b[0;34m[\u001b[0m\u001b[0;34m\"tag_count\"\u001b[0m\u001b[0;34m]\u001b[0m\u001b[0;34m,\u001b[0m \u001b[0mdata\u001b[0m\u001b[0;34m=\u001b[0m\u001b[0mdf\u001b[0m\u001b[0;34m)\u001b[0m\u001b[0;34m\u001b[0m\u001b[0;34m\u001b[0m\u001b[0m\n",
            "\u001b[0;32m/usr/local/lib/python3.7/dist-packages/pandas/core/series.py\u001b[0m in \u001b[0;36mapply\u001b[0;34m(self, func, convert_dtype, args, **kwds)\u001b[0m\n\u001b[1;32m   4211\u001b[0m             \u001b[0;32melse\u001b[0m\u001b[0;34m:\u001b[0m\u001b[0;34m\u001b[0m\u001b[0;34m\u001b[0m\u001b[0m\n\u001b[1;32m   4212\u001b[0m                 \u001b[0mvalues\u001b[0m \u001b[0;34m=\u001b[0m \u001b[0mself\u001b[0m\u001b[0;34m.\u001b[0m\u001b[0mastype\u001b[0m\u001b[0;34m(\u001b[0m\u001b[0mobject\u001b[0m\u001b[0;34m)\u001b[0m\u001b[0;34m.\u001b[0m\u001b[0m_values\u001b[0m\u001b[0;34m\u001b[0m\u001b[0;34m\u001b[0m\u001b[0m\n\u001b[0;32m-> 4213\u001b[0;31m                 \u001b[0mmapped\u001b[0m \u001b[0;34m=\u001b[0m \u001b[0mlib\u001b[0m\u001b[0;34m.\u001b[0m\u001b[0mmap_infer\u001b[0m\u001b[0;34m(\u001b[0m\u001b[0mvalues\u001b[0m\u001b[0;34m,\u001b[0m \u001b[0mf\u001b[0m\u001b[0;34m,\u001b[0m \u001b[0mconvert\u001b[0m\u001b[0;34m=\u001b[0m\u001b[0mconvert_dtype\u001b[0m\u001b[0;34m)\u001b[0m\u001b[0;34m\u001b[0m\u001b[0;34m\u001b[0m\u001b[0m\n\u001b[0m\u001b[1;32m   4214\u001b[0m \u001b[0;34m\u001b[0m\u001b[0m\n\u001b[1;32m   4215\u001b[0m         \u001b[0;32mif\u001b[0m \u001b[0mlen\u001b[0m\u001b[0;34m(\u001b[0m\u001b[0mmapped\u001b[0m\u001b[0;34m)\u001b[0m \u001b[0;32mand\u001b[0m \u001b[0misinstance\u001b[0m\u001b[0;34m(\u001b[0m\u001b[0mmapped\u001b[0m\u001b[0;34m[\u001b[0m\u001b[0;36m0\u001b[0m\u001b[0;34m]\u001b[0m\u001b[0;34m,\u001b[0m \u001b[0mSeries\u001b[0m\u001b[0;34m)\u001b[0m\u001b[0;34m:\u001b[0m\u001b[0;34m\u001b[0m\u001b[0;34m\u001b[0m\u001b[0m\n",
            "\u001b[0;32mpandas/_libs/lib.pyx\u001b[0m in \u001b[0;36mpandas._libs.lib.map_infer\u001b[0;34m()\u001b[0m\n",
            "\u001b[0;32m<ipython-input-32-c45b6edb5ec1>\u001b[0m in \u001b[0;36m<lambda>\u001b[0;34m(x)\u001b[0m\n\u001b[0;32m----> 1\u001b[0;31m \u001b[0mdf\u001b[0m\u001b[0;34m[\u001b[0m\u001b[0;34m\"tag_count\"\u001b[0m\u001b[0;34m]\u001b[0m \u001b[0;34m=\u001b[0m \u001b[0mdf\u001b[0m\u001b[0;34m[\u001b[0m\u001b[0;34m\"Tag\"\u001b[0m\u001b[0;34m]\u001b[0m\u001b[0;34m.\u001b[0m\u001b[0mapply\u001b[0m\u001b[0;34m(\u001b[0m\u001b[0;32mlambda\u001b[0m \u001b[0mx\u001b[0m\u001b[0;34m:\u001b[0m\u001b[0mlen\u001b[0m\u001b[0;34m(\u001b[0m\u001b[0mx\u001b[0m\u001b[0;34m.\u001b[0m\u001b[0msplit\u001b[0m\u001b[0;34m(\u001b[0m\u001b[0;34m)\u001b[0m\u001b[0;34m)\u001b[0m\u001b[0;34m)\u001b[0m\u001b[0;34m\u001b[0m\u001b[0;34m\u001b[0m\u001b[0m\n\u001b[0m\u001b[1;32m      2\u001b[0m \u001b[0mprint\u001b[0m\u001b[0;34m(\u001b[0m\u001b[0;34m)\u001b[0m\u001b[0;34m\u001b[0m\u001b[0;34m\u001b[0m\u001b[0m\n\u001b[1;32m      3\u001b[0m \u001b[0msns\u001b[0m\u001b[0;34m.\u001b[0m\u001b[0mcountplot\u001b[0m\u001b[0;34m(\u001b[0m\u001b[0mx\u001b[0m\u001b[0;34m=\u001b[0m\u001b[0mdf\u001b[0m\u001b[0;34m[\u001b[0m\u001b[0;34m\"tag_count\"\u001b[0m\u001b[0;34m]\u001b[0m\u001b[0;34m,\u001b[0m \u001b[0mdata\u001b[0m\u001b[0;34m=\u001b[0m\u001b[0mdf\u001b[0m\u001b[0;34m)\u001b[0m\u001b[0;34m\u001b[0m\u001b[0;34m\u001b[0m\u001b[0m\n",
            "\u001b[0;31mAttributeError\u001b[0m: 'float' object has no attribute 'split'"
          ]
        }
      ]
    },
    {
      "cell_type": "code",
      "metadata": {
        "id": "Rc6wPxV_NgVq"
      },
      "source": [
        "# Text Preprocessing - Removing stop words\n",
        "stop_words = set(stopwords.words('danish'))\n",
        "stemmer = SnowballStemmer(\"danish\")\n",
        "REPLACE_BY_SPACE_RE = re.compile('[/(){}\\[\\]\\|@,;]')\n",
        "BAD_SYMBOLS_RE = re.compile('[^0-9a-z #+_]')\n",
        "\n",
        "import lemmy\n",
        "\n",
        "# Create an instance of the standalone lemmatizer.\n",
        "lemmatizer = lemmy.load(\"da\")\n",
        "\n",
        "# Merging data column into one column text \n",
        "text_list = []\n",
        "\n",
        "for index, row in df.iterrows():\n",
        "  title, description, tags = row['Title'], row['Description'], row['Tag']\n",
        "  text = str(title) + \" \" + str(description)\n",
        "  text = re.sub(r'[^A-Za-z]+]', ' ', text)\n",
        "  words = word_tokenize(str(text.lower()))\n",
        "  tags = tags.lower()\n",
        "\n",
        "  # replace REPLACE_BY_SPACE_RE symbols by space in text\n",
        "  text = re.sub(REPLACE_BY_SPACE_RE,\" \",text,)\n",
        "\n",
        "  # delete symbols which are in BAD_SYMBOLS_RE from text\n",
        "  text = re.sub(BAD_SYMBOLS_RE,\"\",text)\n",
        "  text = re.sub(r'\\s+',\" \",text)\n",
        "\n",
        "  text = ' '.join(str(stemmer.stem(j)) for j in words if j not in stop_words and (len(j) !=1 or j=='c'))\n",
        "\n",
        "  # lemmetization \n",
        "  # text = ' '.join(str(lemmatizer.lemmatize(\"\", j)) for j in words if j not in stop_words and (len(j) !=1 or j=='c'))\n",
        "\n",
        "  text_list.append(text)\n",
        "  \n",
        "# Data frame Text (Title, Description) => Merged  \n",
        "df['Text'] = text_list\n",
        "\n",
        "## iterate over each word - replace with lemmtization - GET THIS TO WORK\n",
        "#df['Text'] = map(lambda x: str.replace(x,lemmatizer.lemmatize(\"\", w)), text_list)\n",
        "\n",
        "#### FOR REAL DATA TESTING ####\n",
        "text_list_real_data = []\n",
        "\n",
        "for index,row in df_real_data.iterrows():\n",
        "  title, description = row['Titel'], row['Description']\n",
        "  text = str(title) + \" \" + str(description)\n",
        "  text = re.sub(r'[^A-Za-z]+]', ' ', text)\n",
        "  words = word_tokenize(str(text.lower()))\n",
        "  text = ' '.join(str(stemmer.stem(j)) for j in words if j not in stop_words and (len(j) !=1 or j=='c'))\n",
        "  text_list_real_data.append(text)\n",
        "\n",
        "# Test data 100 set \n",
        "df_real_data['Text'] = text_list_real_data \n",
        "\n",
        "# Improved preprocessing \n",
        "import preprocess_kgptalkie as kgp\n",
        "df_real_data['text'] = df_real_data['Text']\n",
        "\n",
        "df_real_data = kgp.get_basic_features(df_real_data)\n",
        "df_real_data.head()"
      ],
      "execution_count": null,
      "outputs": []
    },
    {
      "cell_type": "code",
      "metadata": {
        "id": "SV6U0z9kszjY"
      },
      "source": [
        "# Frequency \n",
        "#freqs = kgp.get_word_freqs(df_real_data, 'Description')\n",
        "#top40 = freqs[100:140]\n",
        "#plt.bar(top40.index, top40.values)\n",
        "#plt.xticks(rotation=90)\n",
        "#plt.show()"
      ],
      "execution_count": null,
      "outputs": []
    },
    {
      "cell_type": "code",
      "metadata": {
        "id": "vbb36IRRt9ah"
      },
      "source": [
        "# Character Counts \n",
        "#sns.distplot(df_real_data['char_counts'])"
      ],
      "execution_count": null,
      "outputs": []
    },
    {
      "cell_type": "markdown",
      "metadata": {
        "id": "nXq7MIY4vQ57"
      },
      "source": [
        ""
      ]
    },
    {
      "cell_type": "markdown",
      "metadata": {
        "id": "lmrr1y93vsZ3"
      },
      "source": [
        "### Most & Least Common Words "
      ]
    },
    {
      "cell_type": "code",
      "metadata": {
        "id": "TkyLq9p6uXdm"
      },
      "source": [
        "# Top 20 most common words \n",
        "print(df_real_data)\n",
        "freqs = kgp.get_word_freqs(df_real_data, 'Description')\n",
        "top10 = freqs[1:20]\n",
        "plt.bar(top10.index, top10.values)\n",
        "plt.xticks(rotation=60)\n",
        "#plt.show()"
      ],
      "execution_count": null,
      "outputs": []
    },
    {
      "cell_type": "code",
      "metadata": {
        "id": "5rE72W7Vv17z"
      },
      "source": [
        "# Least 20 common words \n",
        "least20 = freqs[-30:]\n",
        "bigram = kgp.get_ngram(df_real_data, 'Description', ngram_range=2)\n",
        "bigram[-30:]\n",
        "\n",
        "\n",
        "wordcloud_least_freq = WordCloud(stopwords=stop_words ,width=800, height=400).generate(str(least20))\n",
        "fig = plt.figure(figsize=(30,10), facecolor='white')\n",
        "plt.imshow(wordcloud_least_freq, interpolation=\"bilinear\")\n",
        "plt.axis('off')\n",
        "plt.title('Top 20 Least Common Words', fontsize=30)\n",
        "plt.tight_layout(pad=0)\n",
        "#plt.show()"
      ],
      "execution_count": null,
      "outputs": []
    },
    {
      "cell_type": "markdown",
      "metadata": {
        "id": "QKgEcJwAwIp2"
      },
      "source": [
        "## Extra data cleaning - Part v2.0\n"
      ]
    },
    {
      "cell_type": "code",
      "metadata": {
        "id": "81W_pgSfwMai"
      },
      "source": [
        "# remove - URLS, Emails, Htmltags, special chars, duplicated chars, \n",
        "def get_clean(x):\n",
        "  x = str(x).lower().replace('\\\\',' ').replace('_',' ').replace('.',' ')\n",
        "  x = kgp.cont_exp(x)\n",
        "  x = kgp.remove_emails(x)\n",
        "  x = kgp.remove_urls(x)\n",
        "  x = kgp.remove_html_tags(x)\n",
        "  x = kgp.remove_rt(x)\n",
        "  x = kgp.remove_accented_chars(x)\n",
        "  x = kgp.remove_special_chars(x)\n",
        "  x = kgp.remove_dups_char(x)\n",
        "  return x\n",
        "\n",
        "### MODIFY DESRCRIPTION to TEXT \n",
        "#df_real_data['Text'] = df_real_data['Text'].apply(lambda x: get_clean(x)) ### MODIFY DESRCRIPTION to TEXT \n",
        "#df['Text'] = df['Text'].apply(lambda x: get_clean(x)) ### MODIFY DESRCRIPTION to TEXT \n",
        "#modify to Text ? - title + desc is merged \n",
        "#df_real_data['Description'] = df_real_data['Description'].apply(lambda x: get_clean(x)) \n",
        "\n",
        "df_real_data.head()['Description']\n",
        "#df_real_data.head()['Titel']\n"
      ],
      "execution_count": null,
      "outputs": []
    },
    {
      "cell_type": "markdown",
      "metadata": {
        "id": "9B3AbJ-5w47T"
      },
      "source": [
        "## Word Cloud visualization"
      ]
    },
    {
      "cell_type": "code",
      "metadata": {
        "id": "wEqLVZhTw4Kx"
      },
      "source": [
        "word_cloud_words_from_text = \" \".join(word for word in df_real_data['text'])\n",
        "word_cloud_stop_words = set(stop_words)\n",
        "#Initializing WordCloud using frequencies of tags.\n",
        "wordcloud = WordCloud(    stopwords=word_cloud_stop_words,\n",
        "                          background_color='black',\n",
        "                          width=1200,\n",
        "                          height=600,\n",
        "                    ).generate(word_cloud_words_from_text)\n",
        "\n",
        "fig = plt.figure(figsize=(30,20))\n",
        "plt.imshow(wordcloud)\n",
        "plt.axis('off')\n",
        "plt.tight_layout(pad=0)\n",
        "fig.savefig(\"tag.png\")\n",
        "plt.show()\n"
      ],
      "execution_count": null,
      "outputs": []
    },
    {
      "cell_type": "code",
      "metadata": {
        "id": "9eHX1ZWhpTsn"
      },
      "source": [
        "#df['Tags'] = df['Tags'].apply(lambda x: ast.literal_eval(x)) # modify str literal to list data \n",
        "df.head()\n",
        "## testing on real data\n",
        "df_real_data.head()"
      ],
      "execution_count": null,
      "outputs": []
    },
    {
      "cell_type": "markdown",
      "metadata": {
        "id": "ZyW1qFPWrjFp"
      },
      "source": [
        "# Convert tags into onehot encoding "
      ]
    },
    {
      "cell_type": "code",
      "metadata": {
        "id": "VlgG3Tjurkup"
      },
      "source": [
        "y = df['Tag']\n",
        "type(df['Tag'].iloc[0] )\n",
        "y\n",
        "\n"
      ],
      "execution_count": null,
      "outputs": []
    },
    {
      "cell_type": "code",
      "metadata": {
        "id": "GHKQ7nYarpfU"
      },
      "source": [
        "multilabel = MultiLabelBinarizer()\n",
        "\n",
        "#df['Tag'] = df['Tag'].dropna()\n",
        "#print(df['Tag'].dtypes)\n",
        "#arr = multilabel.fit_transform(df.loc[mask, 'Tag'].dropna()) #.str.strip('[]').str.split(',')\n",
        "#new_df = (pd.DataFrame(arr, index=df.index[mask], columns=multilabel.classes_).reindex(df.index, fill_value=0))\n",
        "\n",
        "# implement library instead \n",
        "# Use Regular expression instead at some point \n",
        "df['Tag'] = df['Tag'].str.replace(\"[\",\"\")\n",
        "df['Tag'] = df['Tag'].str.replace(\"]\",\"\")\n",
        "df['Tag'] = df['Tag'].str.replace(\"'\",\"\")\n",
        "\n",
        "df['Tag'] = df['Tag'].str.replace(\"/\",\"\")\n",
        "df['Tag'] = df['Tag'].str.replace(\"&\",\"\")\n",
        "df['Tag'] = df['Tag'].str.replace(\"%\",\"\")\n",
        "df['Tag'] = df['Tag'].str.replace(\"-\",\"\")\n",
        "df['Tag'] = df['Tag'].str.replace(\"\\n\",\"\")\n",
        "\n",
        "\n",
        "#df = df.applymap(lambda s: s.lower())\n",
        "#y = multilabel.fit_transform(str(df['Tag']).str.split(', ')) \n",
        "y = multilabel.fit_transform(df['Tag'].str.split(', ')) \n",
        "y\n",
        "\n",
        "\n",
        "# Test here for neural network \n",
        "#filter_length = 300\n",
        "#num_classes = 120\n",
        "#model = Sequential()\n",
        "#model.add(Embedding(max_words, 20, input_length=maxlen))\n",
        "#model.add(Dropout(0.1))\n",
        "#model.add(Conv1D(filter_length, 3, padding='valid', activation='relu', strides=1))\n",
        "#model.add(GlobalMaxPool1D())\n",
        "#model.add(Dense(num_classes))\n",
        "#model.add(Activation('sigmoid'))\n",
        "\n",
        "#model.compile(optimizer='adam', loss='binary_crossentropy', metrics=['categorical_accuracy'])\n",
        "#model.summary()\n",
        "#callbacks = [\n",
        "#             ReduceROnPlateau(),\n",
        "#             EarlyStopping(patience=4),\n",
        "#             ModelCheckpoint(filepath='model-conv1d.h5', save_best_only=True) \n",
        "#]\n",
        "\n",
        "#history = model.fit(x_train, y_train, epochs=20, batch_size=32, validation_split=0.1, callbacks=callbacks)"
      ],
      "execution_count": null,
      "outputs": []
    },
    {
      "cell_type": "code",
      "metadata": {
        "id": "KxoDdFiLr2Kx"
      },
      "source": [
        "multilabel.classes_ # Classes "
      ],
      "execution_count": null,
      "outputs": []
    },
    {
      "cell_type": "code",
      "metadata": {
        "id": "j2ZUxRqssdwE"
      },
      "source": [
        "#pd.DataFrame(y, columns=multilabel.classes_)"
      ],
      "execution_count": null,
      "outputs": []
    },
    {
      "cell_type": "code",
      "metadata": {
        "id": "10la28NasrU2"
      },
      "source": [
        "# Term Freq * inverse docoument frequency \n",
        "tfidf = TfidfVectorizer(analyzer='word', strip_accents='unicode', max_features=11500, ngram_range=(1,2), max_df=0.9, min_df=10) # stop_words  stop_words='danish'  , ngram=1,3 stop_words=stop_words,\n",
        "#tfidf = TfidfVectorizer(strip_accents='unicode', analyzer='word',max_features=11500, ngram_range=(1,2), norm='l2', max_df=0.6, min_df=2) \n",
        "X = tfidf.fit_transform(df['Text']) # convert Text "
      ],
      "execution_count": null,
      "outputs": []
    },
    {
      "cell_type": "code",
      "metadata": {
        "id": "eG690oO5t8uq"
      },
      "source": [
        "X"
      ],
      "execution_count": null,
      "outputs": []
    },
    {
      "cell_type": "code",
      "metadata": {
        "id": "wYaGOwvCt_i3"
      },
      "source": [
        "#tfidf.vocabulary_\n",
        "# words of selection tokenizer vocabulary  -- Limited to max_features\n",
        "#tfidf.stop_words_"
      ],
      "execution_count": null,
      "outputs": []
    },
    {
      "cell_type": "code",
      "metadata": {
        "id": "eObmMQ3cutQQ"
      },
      "source": [
        "X.shape, y.shape # Rows && Features   y=column => top tags "
      ],
      "execution_count": null,
      "outputs": []
    },
    {
      "cell_type": "markdown",
      "metadata": {
        "id": "REW_p2vEvFTf"
      },
      "source": [
        "# Train Test & Split "
      ]
    },
    {
      "cell_type": "code",
      "metadata": {
        "id": "mJxeXVqrvJRd"
      },
      "source": [
        "X_train, X_test, y_train, y_test = train_test_split(X, y, test_size = 0.05, random_state = 0) # X = feature , y = target  #  stratify = y - min. 2 class for 1 label - Stratify"
      ],
      "execution_count": null,
      "outputs": []
    },
    {
      "cell_type": "markdown",
      "metadata": {
        "id": "vKHoB_I9wilV"
      },
      "source": [
        "# Build Model"
      ]
    },
    {
      "cell_type": "code",
      "metadata": {
        "id": "i_EuUtzxv9b6"
      },
      "source": [
        "sgd = SGDClassifier()\n",
        "lr = LogisticRegression(solver='saga', max_iter=2000)# solver='lbfgs' # small dataset = liblinear  ||  sag && saga good fit for larger dataset  => Optimization problem \n",
        "svc = LinearSVC(C=1.2, class_weight='balanced') #class_weight='balanced'  1.6 for SVC regular"
      ],
      "execution_count": null,
      "outputs": []
    },
    {
      "cell_type": "code",
      "metadata": {
        "id": "5fsHYcCK7TLw"
      },
      "source": [
        "def j_score(y_true, y_pred):\n",
        "  jaccard = np.minimum(y_true, y_pred).sum(axis = 1) / np.maximum(y_true, y_pred).sum(axis = 1)\n",
        "  return jaccard.mean() * 100\n",
        "\n",
        "def hamming_score(y_true, y_pred, normalize=True, sample_weigth=None):\n",
        "  acc_list = []\n",
        "  for i in range(y_true.shape[0]):\n",
        "    set_true = set(np.where(y_true[i])[0])\n",
        "    set_pred = set(np.where(y_pred[i])[0])\n",
        "    tmp_a = None\n",
        "    if len(set_true) == 0 and len(set_pred) == 0:\n",
        "      tmp_a = 1 \n",
        "    else:\n",
        "      tmp_a = len(set_true.intersection(set_pred))/\\\n",
        "              float( len(set_true.union(set_pred)) )\n",
        "    acc_list.append(tmp_a)\n",
        "  return np.mean(acc_list)\n",
        "\n",
        "\n",
        "def print_score(y_pred, clf): \n",
        "  print('----------------------------------------------------')\n",
        "  print(\"Clf: \", clf.__class__.__name__)\n",
        "  print('----------------------------------------------------')\n",
        "  print('Jaccard score: {}'.format(j_score(y_test, y_pred)))\n",
        "  print('----------------------------------------------------')\n",
        "  print('Hamming Score: {0}'.format(hamming_score(y_test, y_pred))) \n",
        "  print('----------------------------------------------------')\n",
        "  print('Accuracy of classifier: {0}'.format(accuracy_score(y_test, y_pred, normalize=True, sample_weight=None)))\n",
        "  print('----------------------------------------------------')\n",
        "  print('Hamming loss: {0}'.format(hamming_loss(y_test, y_pred)))\n",
        "  print('----------------------------------------------------') \n",
        "  print('F-1 Score Meassure: {0}'.format(f1_score(y_test, y_pred, average='micro', labels=None, sample_weight=None, zero_division='warn')))\n",
        "\n",
        "\n"
      ],
      "execution_count": null,
      "outputs": []
    },
    {
      "cell_type": "markdown",
      "metadata": {
        "id": "z2IrKO69yAsD"
      },
      "source": [
        "## Iteration"
      ]
    },
    {
      "cell_type": "code",
      "metadata": {
        "id": "cQq2h04hyCSK"
      },
      "source": [
        "# Multi label classification performance metrics \n",
        "\n",
        "for classifier in [sgd, lr, svc]: # Train model\n",
        "  clf = OneVsRestClassifier(classifier) # Link for estimator  -> binary relevance\n",
        "  clf.fit(X_train, y_train)\n",
        "  y_pred = clf.predict(X_test)\n",
        "  print_score(y_pred, classifier)\n",
        "  print('Classification Report ')\n",
        "  print(classification_report(y_test, y_pred))\n",
        "\n",
        "\n",
        "for classifier2 in [LinearSVC(C=2.2, penalty='l2', dual=False, loss='squared_hinge')]: # try penality l1  #1.9 C\n",
        "  clf = OneVsRestClassifier(classifier2)\n",
        "  clf.fit(X_train, y_train)\n",
        "  y_pred = clf.predict(X_test)\n",
        "  print('---------- Classifier Liner SVC 2  ------------')\n",
        "  print_score(y_pred, classifier2)\n",
        "  print('Classification Report ')\n",
        "  print(classification_report(y_test, y_pred))\n"
      ],
      "execution_count": null,
      "outputs": []
    },
    {
      "cell_type": "markdown",
      "metadata": {
        "id": "8xhOsiRm9HFx"
      },
      "source": [
        "## Model Test with Real Data "
      ]
    },
    {
      "cell_type": "code",
      "metadata": {
        "id": "nryXxTDsbKX9"
      },
      "source": [
        ""
      ],
      "execution_count": null,
      "outputs": []
    },
    {
      "cell_type": "code",
      "metadata": {
        "id": "joFlSwRj9KBP"
      },
      "source": [
        "# Dummy tasks from DB \n",
        "#x = ['jeg skal have flyttet hjælp til mine møbler til en anden addresse, jeg har ikke nogle bil og de kan være tunge. Du skal selv bære alting ned fra 5 sal. Har 10 flyttekasser med blandet ting. Du kan nok godt køre det i to læs'] \n",
        "#all_task_raw = []\n",
        "\n",
        "\n",
        "# Transform to correct data type \n",
        "#for taskData in df_real_data['Text']:\n",
        "#  all_task_raw.append([taskData])\n",
        "\n",
        "# Predcit Tag for Task => Store into csv file \n",
        "#with open('TaskTagData.csv', mode='w', newline='') as f:\n",
        " # for prediction in all_task_raw:\n",
        " #   xT = tfidf.transform(prediction)\n",
        " #   y_pred = clf.predict(xT)\n",
        " #   predicted_tag = multilabel.inverse_transform(clf.predict(xT))\n",
        " #   print('Prediction Task Data',prediction ,predicted_tag)\n",
        "    # Save data to txt\n",
        "  #  csv_writer = csv.writer(f, delimiter=',', quotechar='\"')\n",
        "  #  csv_writer.writerow([prediction, predicted_tag])\n"
      ],
      "execution_count": null,
      "outputs": []
    }
  ]
}